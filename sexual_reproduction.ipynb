{
 "cells": [
  {
   "cell_type": "code",
   "execution_count": 146,
   "metadata": {},
   "outputs": [],
   "source": [
    "import numpy as np\n",
    "import matplotlib.pyplot as plt\n",
    "%matplotlib inline"
   ]
  },
  {
   "cell_type": "code",
   "execution_count": 147,
   "metadata": {},
   "outputs": [],
   "source": [
    "# parameters of the model\n",
    "num_alleles = 64\n",
    "num_genes = 100\n",
    "mutation_rate = 0.02\n",
    "num_pop = 200\n",
    "ratio_survive = 0.8\n",
    "num_epochs = 100"
   ]
  },
  {
   "cell_type": "code",
   "execution_count": 148,
   "metadata": {},
   "outputs": [],
   "source": [
    "# fitness matrix for each gene for each allele\n",
    "F = np.random.randn(num_genes, num_alleles)"
   ]
  },
  {
   "cell_type": "code",
   "execution_count": 149,
   "metadata": {},
   "outputs": [
    {
     "data": {
      "text/plain": [
       "array([52, 59, 22, 35, 45, 36,  7,  9,  8, 31, 25, 42, 52, 28,  3, 10, 62,\n",
       "        8,  2, 21, 51, 62, 27, 41, 61, 21, 46, 43, 30, 54, 62, 59, 47, 31,\n",
       "        0, 36,  7,  6, 51, 23, 25, 30, 51, 62, 39, 11, 28, 32, 11, 34, 30,\n",
       "       23,  7,  4, 17, 21, 54, 13, 19, 32, 49, 51,  4, 41, 35, 42,  7, 19,\n",
       "       49,  8,  7, 32, 59, 17,  8, 54, 51, 23, 12, 58, 25, 13, 44,  7, 48,\n",
       "       57, 47, 44, 19,  6, 46,  0, 46, 16, 17, 47, 43, 13, 18,  3])"
      ]
     },
     "execution_count": 149,
     "metadata": {},
     "output_type": "execute_result"
    }
   ],
   "source": [
    "# example chromosome: just an array of allele identities for each gene\n",
    "chromosome = np.random.randint(0, num_alleles, num_genes)\n",
    "chromosome"
   ]
  },
  {
   "cell_type": "code",
   "execution_count": 180,
   "metadata": {},
   "outputs": [
    {
     "data": {
      "text/plain": [
       "array([52, 59, 22, 35, 45, 36,  7,  9,  8, 31, 25, 42, 52, 28,  3, 10, 62,\n",
       "        8,  2, 21, 51, 62, 27, 41, 61, 21, 46, 43, 30, 54, 62, 59, 47, 31,\n",
       "        0, 36,  7,  6, 51, 23, 25, 30, 51, 62, 39, 11, 28, 32, 11, 34, 30,\n",
       "       23,  7,  4, 17, 21, 54, 13, 19, 32, 49, 51,  4, 41, 35, 42,  7, 19,\n",
       "       49,  8,  7, 15, 59, 17,  8, 54, 51, 23, 12, 58, 25, 13, 44,  7, 48,\n",
       "       57, 47, 44, 19,  6, 46,  0, 46, 16, 17, 47, 43, 13, 18,  3])"
      ]
     },
     "execution_count": 180,
     "metadata": {},
     "output_type": "execute_result"
    }
   ],
   "source": [
    "def mutate(ch):\n",
    "  # randomly mutate some parts of chromosome\n",
    "  m = np.random.rand(*ch.shape) <= mutation_rate\n",
    "  return np.where(m, np.random.randint(0, num_alleles, ch.shape), ch)\n",
    "mutate(chromosome)"
   ]
  },
  {
   "cell_type": "code",
   "execution_count": 181,
   "metadata": {},
   "outputs": [
    {
     "data": {
      "text/plain": [
       "array([52, 59, 22, 35, 45, 36,  7,  9,  8, 31, 25, 42, 52, 28,  3, 10, 62,\n",
       "        8,  2, 21, 51, 62, 27, 41, 61, 21, 46, 43, 30, 54, 62, 59, 47, 31,\n",
       "        0, 36,  7,  6, 51, 23, 25, 30, 51, 62, 39, 11, 28, 32, 11, 34, 30,\n",
       "       23,  7,  4, 17, 21, 54, 13, 19, 32, 49, 51,  4, 41, 35, 42,  7, 19,\n",
       "       49,  8, 63, 32, 59, 17,  8, 54, 51, 23, 12, 58, 25, 13, 44,  7, 48,\n",
       "       57, 47, 44, 19,  6, 46,  0, 46, 16, 17, 47, 43, 13, 18,  3])"
      ]
     },
     "execution_count": 181,
     "metadata": {},
     "output_type": "execute_result"
    }
   ],
   "source": [
    "def crossover(ch1, ch2):\n",
    "  # randomly mix parts of two chromosomes\n",
    "  m = np.random.rand(*ch1.shape) < 0.5\n",
    "  return np.where(m, ch1, ch2)\n",
    "crossover(mutate(chromosome), mutate(chromosome))"
   ]
  },
  {
   "cell_type": "code",
   "execution_count": 187,
   "metadata": {},
   "outputs": [
    {
     "data": {
      "text/plain": [
       "(200, 100)"
      ]
     },
     "execution_count": 187,
     "metadata": {},
     "output_type": "execute_result"
    }
   ],
   "source": [
    "seed_chromosome = np.random.randint(0, num_alleles, (1, num_genes))\n",
    "pop = mutate(np.repeat(seed_chromosome, num_pop, axis=0))\n",
    "pop.shape # num_pop x num_genes"
   ]
  },
  {
   "cell_type": "code",
   "execution_count": 194,
   "metadata": {},
   "outputs": [],
   "source": [
    "# asexual reproduction model\n",
    "asexual = []\n",
    "pop = mutate(np.repeat(seed_chromosome, num_pop, axis=0))\n",
    "for i in range(num_epochs):\n",
    "  # eval and log current population fitness\n",
    "  fit = F[range(num_genes), pop].mean(1)\n",
    "  asexual.append(float(np.mean(fit)))\n",
    "  # survive the most fit organisms\n",
    "  ix = np.argsort(fit)[::-1]\n",
    "  nsurv = int(ratio_survive * num_pop)\n",
    "  surv = pop[ix[:nsurv]]\n",
    "  # reproduce a new generation via mutation of random surviving organisms\n",
    "  repix = np.random.randint(0, nsurv, num_pop - nsurv)\n",
    "  children = mutate(pop[repix])\n",
    "  pop = np.concatenate((surv, children))"
   ]
  },
  {
   "cell_type": "code",
   "execution_count": 195,
   "metadata": {},
   "outputs": [],
   "source": [
    "# asexual reproduction model\n",
    "sexual = []\n",
    "pop = mutate(np.repeat(seed_chromosome, num_pop, axis=0))\n",
    "for i in range(num_epochs):\n",
    "  # eval and log current population fitness\n",
    "  fit = F[range(num_genes), pop].mean(1)\n",
    "  sexual.append(float(np.mean(fit)))\n",
    "  # survive the most fit organisms\n",
    "  ix = np.argsort(fit)[::-1]\n",
    "  nsurv = int(ratio_survive * num_pop)\n",
    "  surv = pop[ix[:nsurv]]\n",
    "  # reproduce a new generation via crossover + mutation of two parents\n",
    "  repix1 = np.random.randint(0, nsurv, num_pop - nsurv)\n",
    "  repix2 = np.random.randint(0, nsurv, num_pop - nsurv)\n",
    "  children = mutate(crossover(pop[repix1], pop[repix2]))\n",
    "  pop = np.concatenate((surv, children))"
   ]
  },
  {
   "cell_type": "code",
   "execution_count": 196,
   "metadata": {},
   "outputs": [
    {
     "data": {
      "image/png": "[encoded data removed]",
      "text/plain": [
       "<Figure size 432x288 with 1 Axes>"
      ]
     },
     "metadata": {
      "needs_background": "light"
     },
     "output_type": "display_data"
    }
   ],
   "source": [
    "plt.plot(asexual, '-r')\n",
    "plt.plot(sexual, '-g')\n",
    "plt.legend(['asexual', 'sexual'])\n",
    "plt.ylabel('fitness mean')\n",
    "plt.xlabel('epoch');"
   ]
  },
  {
   "cell_type": "code",
   "execution_count": null,
   "metadata": {},
   "outputs": [],
   "source": [
    "# :O"
   ]
  }
 ],
 "metadata": {
  "kernelspec": {
   "display_name": "Python 3",
   "language": "python",
   "name": "python3"
  },
  "language_info": {
   "codemirror_mode": {
    "name": "ipython",
    "version": 3
   },
   "file_extension": ".py",
   "mimetype": "text/x-python",
   "name": "python",
   "nbconvert_exporter": "python",
   "pygments_lexer": "ipython3",
   "version": "3.8.5"
  }
 },
 "nbformat": 4,
 "nbformat_minor": 4
}
